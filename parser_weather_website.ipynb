{
 "cells": [
  {
   "cell_type": "code",
   "execution_count": 1,
   "id": "73c8ec7a",
   "metadata": {},
   "outputs": [],
   "source": [
    "import requests\n",
    "import pandas as pd\n",
    "import numpy as np\n",
    "import matplotlib.pyplot as plt\n",
    "from datetime import datetime \n",
    "from time import sleep\n",
    "from bs4 import BeautifulSoup as BS\n",
    "from matplotlib import rcParams\n",
    "import seaborn as sns\n",
    "from sklearn.model_selection import train_test_split\n",
    "from sklearn.linear_model import LinearRegression\n",
    "from sklearn.metrics import mean_squared_error, r2_score\n",
    "from sklearn.pipeline import make_pipeline\n",
    "from sklearn.preprocessing import PolynomialFeatures\n",
    "\n",
    "random_seed = 52\n",
    "np.random.seed(random_seed)\n",
    "rcParams['figure.figsize'] = 11.7,8.27"
   ]
  },
  {
   "cell_type": "code",
   "execution_count": 2,
   "id": "2b3e9537",
   "metadata": {},
   "outputs": [
    {
     "name": "stdout",
     "output_type": "stream",
     "text": [
      "<Response [200]>\n",
      "https://thermo.karelia.ru/weather/w_history.php?town=msk&month=12&year=1995\n",
      "('31.12.1995', '-18.7', '-16.2', '-14.1', '0')\n"
     ]
    }
   ],
   "source": [
    "info_weather = []\n",
    "\n",
    "link_part_1, link_part_2 = \"https://thermo.karelia.ru/weather/w_history.php?town=msk&month=\", \"&year=\"\n",
    "\n",
    "try:\n",
    "    for year in range(1949, 1996):\n",
    "        for month in range(1, 13):\n",
    "            url = link_part_1 + str(month) + link_part_2 + str(year)\n",
    "            res = requests.get(url)\n",
    "            soup = BS(res.text, \"html.parser\")\n",
    "            for elem in soup.find_all(align=\"MIDDLE\")[2:]:\n",
    "                data = elem.find_all('div')\n",
    "                if len(data) != 1:\n",
    "                    date = data[1].text.split()[0] + '.' + str(month) + '.' + str(year)\n",
    "                    min_ = data[2].text\n",
    "                    mid_ = data[3].text\n",
    "                    max_ = data[4].text\n",
    "                    amount_of_rain = data[5].text\n",
    "                    info_weather.append((date, min_, mid_, max_, amount_of_rain))\n",
    "                \n",
    "finally:\n",
    "    print(res)\n",
    "    print(url)\n",
    "    print(info_weather[-1])"
   ]
  },
  {
   "cell_type": "code",
   "execution_count": 3,
   "id": "b4e7c702",
   "metadata": {},
   "outputs": [],
   "source": [
    "df = pd.DataFrame(data=info_weather, columns=['date', 'min_t', 'mid_t', 'max_t', 'amount_of_rain'])"
   ]
  },
  {
   "cell_type": "code",
   "execution_count": 4,
   "id": "aa3b305d",
   "metadata": {},
   "outputs": [],
   "source": [
    "df['date'] = df['date'].apply(lambda date: datetime.strptime(date, '%d.%m.%Y'))"
   ]
  },
  {
   "cell_type": "code",
   "execution_count": 5,
   "id": "2f2a25fc",
   "metadata": {},
   "outputs": [],
   "source": [
    "df = df.astype({'min_t': 'float64', \n",
    "           'mid_t': 'float64',\n",
    "           'max_t': 'float64',\n",
    "           'amount_of_rain': 'float64'}, )"
   ]
  },
  {
   "cell_type": "code",
   "execution_count": 6,
   "id": "eac23c32",
   "metadata": {},
   "outputs": [
    {
     "data": {
      "text/plain": [
       "date              datetime64[ns]\n",
       "min_t                    float64\n",
       "mid_t                    float64\n",
       "max_t                    float64\n",
       "amount_of_rain           float64\n",
       "dtype: object"
      ]
     },
     "execution_count": 6,
     "metadata": {},
     "output_type": "execute_result"
    }
   ],
   "source": [
    "df.dtypes"
   ]
  },
  {
   "cell_type": "code",
   "execution_count": 7,
   "id": "cabd84c4",
   "metadata": {},
   "outputs": [],
   "source": [
    "df.to_csv('weather_1949-1995_msk.csv', index=False)"
   ]
  },
  {
   "cell_type": "markdown",
   "id": "db19ce7a",
   "metadata": {},
   "source": [
    "**Получили некоторые данные о погоде и сохранили их в файл ```weather_1949-1995_msk.csv```**"
   ]
  },
  {
   "cell_type": "code",
   "execution_count": 8,
   "id": "e58c50f5",
   "metadata": {},
   "outputs": [
    {
     "data": {
      "text/html": [
       "<div>\n",
       "<style scoped>\n",
       "    .dataframe tbody tr th:only-of-type {\n",
       "        vertical-align: middle;\n",
       "    }\n",
       "\n",
       "    .dataframe tbody tr th {\n",
       "        vertical-align: top;\n",
       "    }\n",
       "\n",
       "    .dataframe thead th {\n",
       "        text-align: right;\n",
       "    }\n",
       "</style>\n",
       "<table border=\"1\" class=\"dataframe\">\n",
       "  <thead>\n",
       "    <tr style=\"text-align: right;\">\n",
       "      <th></th>\n",
       "      <th>min_t</th>\n",
       "      <th>mid_t</th>\n",
       "      <th>max_t</th>\n",
       "      <th>amount_of_rain</th>\n",
       "    </tr>\n",
       "  </thead>\n",
       "  <tbody>\n",
       "    <tr>\n",
       "      <th>count</th>\n",
       "      <td>17129.000</td>\n",
       "      <td>17129.000</td>\n",
       "      <td>17129.000</td>\n",
       "      <td>17129.000</td>\n",
       "    </tr>\n",
       "    <tr>\n",
       "      <th>mean</th>\n",
       "      <td>1.233</td>\n",
       "      <td>5.012</td>\n",
       "      <td>8.972</td>\n",
       "      <td>1.838</td>\n",
       "    </tr>\n",
       "    <tr>\n",
       "      <th>std</th>\n",
       "      <td>10.349</td>\n",
       "      <td>10.875</td>\n",
       "      <td>11.762</td>\n",
       "      <td>4.178</td>\n",
       "    </tr>\n",
       "    <tr>\n",
       "      <th>min</th>\n",
       "      <td>-38.100</td>\n",
       "      <td>-35.000</td>\n",
       "      <td>-32.300</td>\n",
       "      <td>0.000</td>\n",
       "    </tr>\n",
       "    <tr>\n",
       "      <th>25%</th>\n",
       "      <td>-5.300</td>\n",
       "      <td>-2.600</td>\n",
       "      <td>0.100</td>\n",
       "      <td>0.000</td>\n",
       "    </tr>\n",
       "    <tr>\n",
       "      <th>50%</th>\n",
       "      <td>1.900</td>\n",
       "      <td>5.200</td>\n",
       "      <td>8.800</td>\n",
       "      <td>0.100</td>\n",
       "    </tr>\n",
       "    <tr>\n",
       "      <th>75%</th>\n",
       "      <td>9.800</td>\n",
       "      <td>14.400</td>\n",
       "      <td>19.300</td>\n",
       "      <td>1.700</td>\n",
       "    </tr>\n",
       "    <tr>\n",
       "      <th>max</th>\n",
       "      <td>23.300</td>\n",
       "      <td>28.100</td>\n",
       "      <td>35.000</td>\n",
       "      <td>62.500</td>\n",
       "    </tr>\n",
       "  </tbody>\n",
       "</table>\n",
       "</div>"
      ],
      "text/plain": [
       "           min_t      mid_t      max_t  amount_of_rain\n",
       "count  17129.000  17129.000  17129.000       17129.000\n",
       "mean       1.233      5.012      8.972           1.838\n",
       "std       10.349     10.875     11.762           4.178\n",
       "min      -38.100    -35.000    -32.300           0.000\n",
       "25%       -5.300     -2.600      0.100           0.000\n",
       "50%        1.900      5.200      8.800           0.100\n",
       "75%        9.800     14.400     19.300           1.700\n",
       "max       23.300     28.100     35.000          62.500"
      ]
     },
     "execution_count": 8,
     "metadata": {},
     "output_type": "execute_result"
    }
   ],
   "source": [
    "round(df.describe(), 3)"
   ]
  },
  {
   "cell_type": "markdown",
   "id": "3bcfe895",
   "metadata": {},
   "source": [
    "Попытемся установить даты аномальных значений и выяснить что произошло в эти дни"
   ]
  },
  {
   "cell_type": "code",
   "execution_count": 9,
   "id": "ebf8a490",
   "metadata": {},
   "outputs": [
    {
     "data": {
      "text/html": [
       "<div>\n",
       "<style scoped>\n",
       "    .dataframe tbody tr th:only-of-type {\n",
       "        vertical-align: middle;\n",
       "    }\n",
       "\n",
       "    .dataframe tbody tr th {\n",
       "        vertical-align: top;\n",
       "    }\n",
       "\n",
       "    .dataframe thead th {\n",
       "        text-align: right;\n",
       "    }\n",
       "</style>\n",
       "<table border=\"1\" class=\"dataframe\">\n",
       "  <thead>\n",
       "    <tr style=\"text-align: right;\">\n",
       "      <th></th>\n",
       "      <th>date</th>\n",
       "      <th>min_t</th>\n",
       "      <th>mid_t</th>\n",
       "      <th>max_t</th>\n",
       "      <th>amount_of_rain</th>\n",
       "    </tr>\n",
       "  </thead>\n",
       "  <tbody>\n",
       "    <tr>\n",
       "      <th>11886</th>\n",
       "      <td>1981-07-22</td>\n",
       "      <td>20.1</td>\n",
       "      <td>25.8</td>\n",
       "      <td>35.0</td>\n",
       "      <td>8.3</td>\n",
       "    </tr>\n",
       "    <tr>\n",
       "      <th>11894</th>\n",
       "      <td>1981-07-30</td>\n",
       "      <td>22.1</td>\n",
       "      <td>28.1</td>\n",
       "      <td>34.9</td>\n",
       "      <td>1.0</td>\n",
       "    </tr>\n",
       "    <tr>\n",
       "      <th>8632</th>\n",
       "      <td>1972-08-21</td>\n",
       "      <td>14.9</td>\n",
       "      <td>24.7</td>\n",
       "      <td>34.8</td>\n",
       "      <td>0.0</td>\n",
       "    </tr>\n",
       "    <tr>\n",
       "      <th>8587</th>\n",
       "      <td>1972-07-07</td>\n",
       "      <td>20.4</td>\n",
       "      <td>27.8</td>\n",
       "      <td>34.8</td>\n",
       "      <td>0.0</td>\n",
       "    </tr>\n",
       "    <tr>\n",
       "      <th>8623</th>\n",
       "      <td>1972-08-12</td>\n",
       "      <td>16.0</td>\n",
       "      <td>25.6</td>\n",
       "      <td>34.4</td>\n",
       "      <td>0.0</td>\n",
       "    </tr>\n",
       "    <tr>\n",
       "      <th>8634</th>\n",
       "      <td>1972-08-23</td>\n",
       "      <td>15.6</td>\n",
       "      <td>26.0</td>\n",
       "      <td>34.2</td>\n",
       "      <td>0.0</td>\n",
       "    </tr>\n",
       "    <tr>\n",
       "      <th>8622</th>\n",
       "      <td>1972-08-11</td>\n",
       "      <td>15.5</td>\n",
       "      <td>24.6</td>\n",
       "      <td>34.1</td>\n",
       "      <td>0.0</td>\n",
       "    </tr>\n",
       "    <tr>\n",
       "      <th>924</th>\n",
       "      <td>1951-07-14</td>\n",
       "      <td>19.4</td>\n",
       "      <td>27.0</td>\n",
       "      <td>34.1</td>\n",
       "      <td>0.0</td>\n",
       "    </tr>\n",
       "    <tr>\n",
       "      <th>8633</th>\n",
       "      <td>1972-08-22</td>\n",
       "      <td>18.3</td>\n",
       "      <td>26.9</td>\n",
       "      <td>34.0</td>\n",
       "      <td>0.0</td>\n",
       "    </tr>\n",
       "    <tr>\n",
       "      <th>927</th>\n",
       "      <td>1951-07-17</td>\n",
       "      <td>18.4</td>\n",
       "      <td>25.7</td>\n",
       "      <td>33.7</td>\n",
       "      <td>0.0</td>\n",
       "    </tr>\n",
       "  </tbody>\n",
       "</table>\n",
       "</div>"
      ],
      "text/plain": [
       "            date  min_t  mid_t  max_t  amount_of_rain\n",
       "11886 1981-07-22   20.1   25.8   35.0             8.3\n",
       "11894 1981-07-30   22.1   28.1   34.9             1.0\n",
       "8632  1972-08-21   14.9   24.7   34.8             0.0\n",
       "8587  1972-07-07   20.4   27.8   34.8             0.0\n",
       "8623  1972-08-12   16.0   25.6   34.4             0.0\n",
       "8634  1972-08-23   15.6   26.0   34.2             0.0\n",
       "8622  1972-08-11   15.5   24.6   34.1             0.0\n",
       "924   1951-07-14   19.4   27.0   34.1             0.0\n",
       "8633  1972-08-22   18.3   26.9   34.0             0.0\n",
       "927   1951-07-17   18.4   25.7   33.7             0.0"
      ]
     },
     "execution_count": 9,
     "metadata": {},
     "output_type": "execute_result"
    }
   ],
   "source": [
    "df.sort_values(by=['max_t'], ascending=False).head(10)"
   ]
  },
  {
   "cell_type": "code",
   "execution_count": 10,
   "id": "6f8365ae",
   "metadata": {},
   "outputs": [
    {
     "data": {
      "text/html": [
       "<div>\n",
       "<style scoped>\n",
       "    .dataframe tbody tr th:only-of-type {\n",
       "        vertical-align: middle;\n",
       "    }\n",
       "\n",
       "    .dataframe tbody tr th {\n",
       "        vertical-align: top;\n",
       "    }\n",
       "\n",
       "    .dataframe thead th {\n",
       "        text-align: right;\n",
       "    }\n",
       "</style>\n",
       "<table border=\"1\" class=\"dataframe\">\n",
       "  <thead>\n",
       "    <tr style=\"text-align: right;\">\n",
       "      <th></th>\n",
       "      <th>date</th>\n",
       "      <th>min_t</th>\n",
       "      <th>mid_t</th>\n",
       "      <th>max_t</th>\n",
       "      <th>amount_of_rain</th>\n",
       "    </tr>\n",
       "  </thead>\n",
       "  <tbody>\n",
       "    <tr>\n",
       "      <th>2586</th>\n",
       "      <td>1956-01-31</td>\n",
       "      <td>-38.1</td>\n",
       "      <td>-35.0</td>\n",
       "      <td>-32.3</td>\n",
       "      <td>0.0</td>\n",
       "    </tr>\n",
       "    <tr>\n",
       "      <th>10952</th>\n",
       "      <td>1978-12-31</td>\n",
       "      <td>-38.0</td>\n",
       "      <td>-34.0</td>\n",
       "      <td>-30.3</td>\n",
       "      <td>0.0</td>\n",
       "    </tr>\n",
       "    <tr>\n",
       "      <th>10951</th>\n",
       "      <td>1978-12-30</td>\n",
       "      <td>-37.2</td>\n",
       "      <td>-34.8</td>\n",
       "      <td>-29.4</td>\n",
       "      <td>0.0</td>\n",
       "    </tr>\n",
       "    <tr>\n",
       "      <th>374</th>\n",
       "      <td>1950-01-10</td>\n",
       "      <td>-36.8</td>\n",
       "      <td>-32.8</td>\n",
       "      <td>-28.4</td>\n",
       "      <td>0.2</td>\n",
       "    </tr>\n",
       "    <tr>\n",
       "      <th>2585</th>\n",
       "      <td>1956-01-30</td>\n",
       "      <td>-35.7</td>\n",
       "      <td>-33.0</td>\n",
       "      <td>-29.4</td>\n",
       "      <td>0.0</td>\n",
       "    </tr>\n",
       "    <tr>\n",
       "      <th>2591</th>\n",
       "      <td>1956-02-05</td>\n",
       "      <td>-35.2</td>\n",
       "      <td>-31.4</td>\n",
       "      <td>-27.2</td>\n",
       "      <td>0.7</td>\n",
       "    </tr>\n",
       "    <tr>\n",
       "      <th>2587</th>\n",
       "      <td>1956-02-01</td>\n",
       "      <td>-34.8</td>\n",
       "      <td>-27.0</td>\n",
       "      <td>-21.6</td>\n",
       "      <td>0.9</td>\n",
       "    </tr>\n",
       "    <tr>\n",
       "      <th>1496</th>\n",
       "      <td>1953-02-05</td>\n",
       "      <td>-33.3</td>\n",
       "      <td>-27.9</td>\n",
       "      <td>-21.8</td>\n",
       "      <td>0.0</td>\n",
       "    </tr>\n",
       "    <tr>\n",
       "      <th>10953</th>\n",
       "      <td>1979-01-01</td>\n",
       "      <td>-33.0</td>\n",
       "      <td>-28.2</td>\n",
       "      <td>-24.1</td>\n",
       "      <td>0.0</td>\n",
       "    </tr>\n",
       "    <tr>\n",
       "      <th>369</th>\n",
       "      <td>1950-01-05</td>\n",
       "      <td>-33.0</td>\n",
       "      <td>-30.3</td>\n",
       "      <td>-27.5</td>\n",
       "      <td>0.0</td>\n",
       "    </tr>\n",
       "  </tbody>\n",
       "</table>\n",
       "</div>"
      ],
      "text/plain": [
       "            date  min_t  mid_t  max_t  amount_of_rain\n",
       "2586  1956-01-31  -38.1  -35.0  -32.3             0.0\n",
       "10952 1978-12-31  -38.0  -34.0  -30.3             0.0\n",
       "10951 1978-12-30  -37.2  -34.8  -29.4             0.0\n",
       "374   1950-01-10  -36.8  -32.8  -28.4             0.2\n",
       "2585  1956-01-30  -35.7  -33.0  -29.4             0.0\n",
       "2591  1956-02-05  -35.2  -31.4  -27.2             0.7\n",
       "2587  1956-02-01  -34.8  -27.0  -21.6             0.9\n",
       "1496  1953-02-05  -33.3  -27.9  -21.8             0.0\n",
       "10953 1979-01-01  -33.0  -28.2  -24.1             0.0\n",
       "369   1950-01-05  -33.0  -30.3  -27.5             0.0"
      ]
     },
     "execution_count": 10,
     "metadata": {},
     "output_type": "execute_result"
    }
   ],
   "source": [
    "df.sort_values(by=['min_t']).head(10)"
   ]
  },
  {
   "cell_type": "markdown",
   "id": "ce110b03",
   "metadata": {},
   "source": [
    "В эти дни в Москве действительно была [аномальная жара](https://tass.ru/info/11731797) и морозы"
   ]
  },
  {
   "cell_type": "code",
   "execution_count": 11,
   "id": "2cb6f78e",
   "metadata": {},
   "outputs": [
    {
     "data": {
      "text/html": [
       "<div>\n",
       "<style scoped>\n",
       "    .dataframe tbody tr th:only-of-type {\n",
       "        vertical-align: middle;\n",
       "    }\n",
       "\n",
       "    .dataframe tbody tr th {\n",
       "        vertical-align: top;\n",
       "    }\n",
       "\n",
       "    .dataframe thead th {\n",
       "        text-align: right;\n",
       "    }\n",
       "</style>\n",
       "<table border=\"1\" class=\"dataframe\">\n",
       "  <thead>\n",
       "    <tr style=\"text-align: right;\">\n",
       "      <th></th>\n",
       "      <th>date</th>\n",
       "      <th>min_t</th>\n",
       "      <th>mid_t</th>\n",
       "      <th>max_t</th>\n",
       "      <th>amount_of_rain</th>\n",
       "    </tr>\n",
       "  </thead>\n",
       "  <tbody>\n",
       "    <tr>\n",
       "      <th>7834</th>\n",
       "      <td>1970-06-14</td>\n",
       "      <td>11.4</td>\n",
       "      <td>15.2</td>\n",
       "      <td>19.6</td>\n",
       "      <td>62.5</td>\n",
       "    </tr>\n",
       "    <tr>\n",
       "      <th>11871</th>\n",
       "      <td>1981-07-07</td>\n",
       "      <td>16.1</td>\n",
       "      <td>19.5</td>\n",
       "      <td>25.9</td>\n",
       "      <td>61.5</td>\n",
       "    </tr>\n",
       "    <tr>\n",
       "      <th>12989</th>\n",
       "      <td>1984-07-29</td>\n",
       "      <td>10.7</td>\n",
       "      <td>15.6</td>\n",
       "      <td>22.1</td>\n",
       "      <td>59.4</td>\n",
       "    </tr>\n",
       "    <tr>\n",
       "      <th>13652</th>\n",
       "      <td>1986-06-23</td>\n",
       "      <td>9.4</td>\n",
       "      <td>10.5</td>\n",
       "      <td>14.4</td>\n",
       "      <td>58.6</td>\n",
       "    </tr>\n",
       "    <tr>\n",
       "      <th>934</th>\n",
       "      <td>1951-07-24</td>\n",
       "      <td>11.9</td>\n",
       "      <td>13.8</td>\n",
       "      <td>15.5</td>\n",
       "      <td>58.3</td>\n",
       "    </tr>\n",
       "    <tr>\n",
       "      <th>15459</th>\n",
       "      <td>1991-06-06</td>\n",
       "      <td>13.1</td>\n",
       "      <td>16.8</td>\n",
       "      <td>22.9</td>\n",
       "      <td>58.2</td>\n",
       "    </tr>\n",
       "    <tr>\n",
       "      <th>10384</th>\n",
       "      <td>1977-06-11</td>\n",
       "      <td>17.1</td>\n",
       "      <td>19.4</td>\n",
       "      <td>24.1</td>\n",
       "      <td>53.8</td>\n",
       "    </tr>\n",
       "    <tr>\n",
       "      <th>3871</th>\n",
       "      <td>1959-08-08</td>\n",
       "      <td>16.1</td>\n",
       "      <td>19.8</td>\n",
       "      <td>27.2</td>\n",
       "      <td>53.0</td>\n",
       "    </tr>\n",
       "    <tr>\n",
       "      <th>12232</th>\n",
       "      <td>1982-07-03</td>\n",
       "      <td>14.9</td>\n",
       "      <td>16.2</td>\n",
       "      <td>17.8</td>\n",
       "      <td>50.2</td>\n",
       "    </tr>\n",
       "    <tr>\n",
       "      <th>8985</th>\n",
       "      <td>1973-08-09</td>\n",
       "      <td>17.0</td>\n",
       "      <td>19.0</td>\n",
       "      <td>24.8</td>\n",
       "      <td>49.6</td>\n",
       "    </tr>\n",
       "  </tbody>\n",
       "</table>\n",
       "</div>"
      ],
      "text/plain": [
       "            date  min_t  mid_t  max_t  amount_of_rain\n",
       "7834  1970-06-14   11.4   15.2   19.6            62.5\n",
       "11871 1981-07-07   16.1   19.5   25.9            61.5\n",
       "12989 1984-07-29   10.7   15.6   22.1            59.4\n",
       "13652 1986-06-23    9.4   10.5   14.4            58.6\n",
       "934   1951-07-24   11.9   13.8   15.5            58.3\n",
       "15459 1991-06-06   13.1   16.8   22.9            58.2\n",
       "10384 1977-06-11   17.1   19.4   24.1            53.8\n",
       "3871  1959-08-08   16.1   19.8   27.2            53.0\n",
       "12232 1982-07-03   14.9   16.2   17.8            50.2\n",
       "8985  1973-08-09   17.0   19.0   24.8            49.6"
      ]
     },
     "execution_count": 11,
     "metadata": {},
     "output_type": "execute_result"
    }
   ],
   "source": [
    "df.sort_values(by=['amount_of_rain'], ascending=False).head(10)"
   ]
  },
  {
   "cell_type": "markdown",
   "id": "737e6e2e",
   "metadata": {},
   "source": [
    "А вот эти дни были [самые сильные ливни](https://russian7.ru/post/samyy-strashnyy-liven-v-istorii-moskv/)"
   ]
  },
  {
   "cell_type": "code",
   "execution_count": 12,
   "id": "0323c6ef",
   "metadata": {},
   "outputs": [],
   "source": [
    "df['day'] = df['date'].dt.day\n",
    "df['month'] = df['date'].dt.month\n",
    "df.drop('date', inplace=True, axis=1)\n"
   ]
  },
  {
   "cell_type": "code",
   "execution_count": 13,
   "id": "5d5b7a13",
   "metadata": {},
   "outputs": [
    {
     "data": {
      "image/png": "[encoded data removed]",
      "text/plain": [
       "<Figure size 842.4x595.44 with 1 Axes>"
      ]
     },
     "metadata": {
      "needs_background": "light"
     },
     "output_type": "display_data"
    }
   ],
   "source": [
    "sns.boxplot(data=df, x=\"month\", y= \"mid_t\")\n",
    "plt.show()"
   ]
  },
  {
   "cell_type": "markdown",
   "id": "ba0d2deb",
   "metadata": {},
   "source": [
    "Для анализа нам скорее всего не понадобятся переменные ```min_t``` и ```max_t```, а оставим ```mid_t``` и переименуем эту переменную в ```temperature```"
   ]
  },
  {
   "cell_type": "code",
   "execution_count": 14,
   "id": "a1f1c94c",
   "metadata": {},
   "outputs": [],
   "source": [
    "df.drop(['min_t', 'max_t'], inplace=True, axis=1)\n",
    "df.rename(columns={'mid_t': 'temperature'}, inplace=True)"
   ]
  },
  {
   "cell_type": "code",
   "execution_count": 15,
   "id": "b3f356ac",
   "metadata": {},
   "outputs": [],
   "source": [
    "q_l, q_h = .25, .75\n",
    "columns_name = ['temperature', 'amount_of_rain']\n",
    "for column_name in columns_name:\n",
    "    q_low = df[column_name].quantile(q_l)\n",
    "    q_high = df[column_name].quantile(q_h)\n",
    "    q_range = q_high - q_low\n",
    "    df = df[(df[column_name] < q_high + 1.5 * q_range) & (df[column_name] > q_low - 1.5 * q_range)]\n"
   ]
  },
  {
   "cell_type": "code",
   "execution_count": 16,
   "id": "a3bcf6bc",
   "metadata": {},
   "outputs": [
    {
     "data": {
      "text/html": [
       "<div>\n",
       "<style scoped>\n",
       "    .dataframe tbody tr th:only-of-type {\n",
       "        vertical-align: middle;\n",
       "    }\n",
       "\n",
       "    .dataframe tbody tr th {\n",
       "        vertical-align: top;\n",
       "    }\n",
       "\n",
       "    .dataframe thead th {\n",
       "        text-align: right;\n",
       "    }\n",
       "</style>\n",
       "<table border=\"1\" class=\"dataframe\">\n",
       "  <thead>\n",
       "    <tr style=\"text-align: right;\">\n",
       "      <th></th>\n",
       "      <th>temperature</th>\n",
       "      <th>amount_of_rain</th>\n",
       "      <th>day</th>\n",
       "      <th>month</th>\n",
       "    </tr>\n",
       "  </thead>\n",
       "  <tbody>\n",
       "    <tr>\n",
       "      <th>temperature</th>\n",
       "      <td>1.000000</td>\n",
       "      <td>-0.039949</td>\n",
       "      <td>0.002533</td>\n",
       "      <td>0.193769</td>\n",
       "    </tr>\n",
       "    <tr>\n",
       "      <th>amount_of_rain</th>\n",
       "      <td>-0.039949</td>\n",
       "      <td>1.000000</td>\n",
       "      <td>0.009316</td>\n",
       "      <td>0.011148</td>\n",
       "    </tr>\n",
       "    <tr>\n",
       "      <th>day</th>\n",
       "      <td>0.002533</td>\n",
       "      <td>0.009316</td>\n",
       "      <td>1.000000</td>\n",
       "      <td>0.008546</td>\n",
       "    </tr>\n",
       "    <tr>\n",
       "      <th>month</th>\n",
       "      <td>0.193769</td>\n",
       "      <td>0.011148</td>\n",
       "      <td>0.008546</td>\n",
       "      <td>1.000000</td>\n",
       "    </tr>\n",
       "  </tbody>\n",
       "</table>\n",
       "</div>"
      ],
      "text/plain": [
       "                temperature  amount_of_rain       day     month\n",
       "temperature        1.000000       -0.039949  0.002533  0.193769\n",
       "amount_of_rain    -0.039949        1.000000  0.009316  0.011148\n",
       "day                0.002533        0.009316  1.000000  0.008546\n",
       "month              0.193769        0.011148  0.008546  1.000000"
      ]
     },
     "execution_count": 16,
     "metadata": {},
     "output_type": "execute_result"
    }
   ],
   "source": [
    "df.corr()"
   ]
  },
  {
   "cell_type": "markdown",
   "id": "a2a40df2",
   "metadata": {},
   "source": [
    "Очень слабая связь, но мы всё равно попытемся применить разные модели"
   ]
  },
  {
   "cell_type": "code",
   "execution_count": 18,
   "id": "b4c10fa8",
   "metadata": {},
   "outputs": [
    {
     "name": "stdout",
     "output_type": "stream",
     "text": [
      "0.0394257991683874\n",
      "0.03855188282595767\n"
     ]
    }
   ],
   "source": [
    "X_train, X_test, y_train, y_test = train_test_split(\n",
    "    df.iloc[::, 1:], df.iloc[::, 0], test_size=0.20, random_state=10)\n",
    "reg = LinearRegression()\n",
    "reg.fit(np.array(X_train).reshape(-1, 3), y_train)\n",
    "print(r2_score(y_train,  reg.predict(np.array(X_train).reshape(-1, 3))))\n",
    "print(r2_score(y_test,  reg.predict(np.array(X_test).reshape(-1, 3))))"
   ]
  },
  {
   "cell_type": "markdown",
   "id": "74b9f6ba",
   "metadata": {},
   "source": [
    "Метрики получились отвратительные. Давайте сделаем полиномизацию признаков - возведение признаков в степени."
   ]
  },
  {
   "cell_type": "code",
   "execution_count": 19,
   "id": "993e92bc",
   "metadata": {},
   "outputs": [
    {
     "name": "stdout",
     "output_type": "stream",
     "text": [
      "r2_train = 0.8149\n",
      "r2_test  = 0.8184\n"
     ]
    }
   ],
   "source": [
    "pipe = make_pipeline(PolynomialFeatures(degree=4), LinearRegression())\n",
    "pipe.fit(np.array(X_train).reshape(-1, 3), y_train)\n",
    "print(f\"r2_train = {r2_score(y_train,  pipe.predict(np.array(X_train).reshape(-1, 3))):.4f}\")\n",
    "print(f\"r2_test  = {r2_score(y_test,  pipe.predict(np.array(X_test).reshape(-1, 3))):.4f}\")"
   ]
  },
  {
   "cell_type": "markdown",
   "id": "7059f51e",
   "metadata": {},
   "source": [
    "**Получили достаточно хорошую модель для предсказания температуры по кол-ву осадков, дне и месяце**"
   ]
  }
 ],
 "metadata": {
  "kernelspec": {
   "display_name": "Python 3 (ipykernel)",
   "language": "python",
   "name": "python3"
  },
  "language_info": {
   "codemirror_mode": {
    "name": "ipython",
    "version": 3
   },
   "file_extension": ".py",
   "mimetype": "text/x-python",
   "name": "python",
   "nbconvert_exporter": "python",
   "pygments_lexer": "ipython3",
   "version": "3.9.12"
  }
 },
 "nbformat": 4,
 "nbformat_minor": 5
}
